{
 "cells": [
  {
   "cell_type": "markdown",
   "id": "92f2d209",
   "metadata": {},
   "source": [
    "# Simulación Segundo Parcial de Base de Datos\n",
    "\n",
    "BASE DE DATOS – 2024\n",
    "Trabajo Práctico: Simulación Segundo Parcial de Base de Datos\n",
    "\n",
    "Utilizar la base de datos de SakilaDB"
   ]
  },
  {
   "cell_type": "markdown",
   "id": "d610608c",
   "metadata": {},
   "source": [
    "# Librerías"
   ]
  },
  {
   "cell_type": "code",
   "execution_count": 1,
   "id": "e7079bf4",
   "metadata": {},
   "outputs": [],
   "source": [
    "import sqlite3\n",
    "\n",
    "conn = sqlite3.connect('sakila.db')\n",
    "\n",
    "cursor = conn.cursor()"
   ]
  },
  {
   "cell_type": "markdown",
   "id": "33edcba4",
   "metadata": {},
   "source": [
    "1. Encontrar los clientes que han realizado más de 5 alquileres"
   ]
  },
  {
   "cell_type": "code",
   "execution_count": null,
   "id": "9c7abecf",
   "metadata": {},
   "outputs": [],
   "source": [
    "query = \"\"\"\n",
    "SELECT\n",
    "\"\"\""
   ]
  },
  {
   "cell_type": "code",
   "execution_count": null,
   "id": "fed55245",
   "metadata": {},
   "outputs": [],
   "source": [
    "# Ejecutar la consulta\n",
    "cursor.execute(query)\n",
    "\n",
    "# Obtener y mostrar los resultados\n",
    "results = cursor.fetchall()\n",
    "for row in results:\n",
    "    print(row)\n",
    "\n",
    "# Cerrar la conexión\n",
    "conn.close()"
   ]
  },
  {
   "cell_type": "markdown",
   "id": "94231700",
   "metadata": {},
   "source": [
    "2. Obtener el nombre de las películas que pertenecen a la categoría 'Comedy'"
   ]
  },
  {
   "cell_type": "code",
   "execution_count": null,
   "id": "5db6ff6d",
   "metadata": {},
   "outputs": [],
   "source": [
    "query2 = \"\"\"\n",
    "SELECT\n",
    "\"\"\""
   ]
  },
  {
   "cell_type": "code",
   "execution_count": null,
   "id": "73400ad0",
   "metadata": {},
   "outputs": [],
   "source": [
    "# Ejecutar la consulta\n",
    "cursor.execute(query2)\n",
    "\n",
    "# Obtener y mostrar los resultados\n",
    "results = cursor.fetchall()\n",
    "for row in results:\n",
    "    print(row)\n",
    "\n",
    "# Cerrar la conexión\n",
    "conn.close()"
   ]
  },
  {
   "cell_type": "markdown",
   "id": "0fc5406e",
   "metadata": {},
   "source": [
    "3.1. Cree una función Python llamada convertir_a_mayusculas que tome una cadena de texto y la convierta a mayúsculas.\n",
    "\n",
    "3.2. Registra esta función como una UDF en SQLite.\n",
    "\n",
    "3.3. Realiza una consulta SQL que utilice la función convertir_a_mayusculas para devolver todos los nombres en mayúsculas."
   ]
  },
  {
   "cell_type": "code",
   "execution_count": null,
   "id": "7ecae126",
   "metadata": {},
   "outputs": [],
   "source": []
  }
 ],
 "metadata": {
  "kernelspec": {
   "display_name": "Python 3 (ipykernel)",
   "language": "python",
   "name": "python3"
  },
  "language_info": {
   "codemirror_mode": {
    "name": "ipython",
    "version": 3
   },
   "file_extension": ".py",
   "mimetype": "text/x-python",
   "name": "python",
   "nbconvert_exporter": "python",
   "pygments_lexer": "ipython3",
   "version": "3.9.13"
  }
 },
 "nbformat": 4,
 "nbformat_minor": 5
}
